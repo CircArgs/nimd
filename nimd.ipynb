{
 "cells": [
  {
   "cell_type": "code",
   "execution_count": 1,
   "id": "1dbb5ed1",
   "metadata": {},
   "outputs": [],
   "source": [
    "import pandas as pd"
   ]
  },
  {
   "cell_type": "code",
   "execution_count": 2,
   "id": "5b86b512",
   "metadata": {},
   "outputs": [],
   "source": [
    "digits='0123456789'"
   ]
  },
  {
   "cell_type": "code",
   "execution_count": 3,
   "id": "fdc9178b",
   "metadata": {},
   "outputs": [],
   "source": [
    "def get_type_size(t):\n",
    "    s=[i for i in t if i in digits]\n",
    "    return int(''.join(s))\n",
    "\n",
    "def get_simd_size(t):\n",
    "    return int(t.split('x')[-1])\n",
    "\n",
    "def get_simd_type(t):\n",
    "    return t.split('x')[0]\n",
    "\n",
    "def get_base_type(t):\n",
    "    s=[i for i in t if i not in digits+'x']\n",
    "    return (''.join(s))\n",
    "\n"
   ]
  },
  {
   "cell_type": "code",
   "execution_count": 4,
   "id": "e98a5bdd",
   "metadata": {},
   "outputs": [],
   "source": [
    "def identify_retval_table(df):\n",
    "    return any('Vec' in str(c) for c in df.columns) and 'Ret' in df.columns"
   ]
  },
  {
   "cell_type": "code",
   "execution_count": 5,
   "id": "7a532474",
   "metadata": {},
   "outputs": [],
   "source": [
    "def identify_parameters_table(df):\n",
    "    t=df.iloc[0, 0]\n",
    "    if type(t)==str:\n",
    "        return t.startswith('a')\n",
    "    return False"
   ]
  },
  {
   "cell_type": "code",
   "execution_count": 6,
   "id": "8c854390",
   "metadata": {},
   "outputs": [],
   "source": [
    "def is_binop(t):\n",
    "    return len([i for i in t.split(',') if i.strip()])>1"
   ]
  },
  {
   "cell_type": "code",
   "execution_count": 7,
   "id": "e601634f",
   "metadata": {},
   "outputs": [],
   "source": [
    "def get_retvals_tables(url, ops, default):\n",
    "    ret={}\n",
    "    for op in ops:\n",
    "        tables=pd.read_html(url+op+'.html')\n",
    "        retval_tables=[t for t in tables if identify_retval_table(t)]\n",
    "        params=[t for t in tables if identify_parameters_table(t)]\n",
    "        binop=True\n",
    "        if params:\n",
    "            binop=is_binop(params[-1].iloc[0, 0])\n",
    "        retval_table=retval_tables[-1] if retval_tables else default(binop)\n",
    "        ret[op]=retval_table\n",
    "    return ret"
   ]
  },
  {
   "cell_type": "code",
   "execution_count": 8,
   "id": "cb7ebbea",
   "metadata": {},
   "outputs": [],
   "source": [
    "types=pd.DataFrame([(\"uint\", \"uint8\", 16),\n",
    "(\"int\", \"int8\", 16),\n",
    "(\"uint\", \"uint16\", 8),\n",
    "(\"int\", \"int16\", 8),\n",
    "(\"uint\", \"uint32\", 4),\n",
    "(\"int\", \"int32\", 4),\n",
    "(\"uint\", \"uint64\", 2),\n",
    "(\"int\", \"int64\", 2),\n",
    "(\"float\", \"float32\", 4),\n",
    "(\"float\", \"float64\", 2),\n",
    "(\"uint\", \"uint8\", 32),\n",
    "(\"int\", \"int8\", 32),\n",
    "(\"uint\", \"uint16\", 16),\n",
    "(\"int\", \"int16\", 16),\n",
    "(\"uint\", \"uint32\", 8),\n",
    "(\"int\", \"int32\", 8),\n",
    "(\"uint\", \"uint64\", 4),\n",
    "(\"int\", \"int64\", 4),\n",
    "(\"float\", \"float32\", 8),\n",
    "(\"float\", \"float64\", 4),\n",
    "(\"uint\", \"uint8\", 64),\n",
    "(\"int\", \"int8\", 64),\n",
    "(\"uint\", \"uint16\", 32),\n",
    "(\"int\", \"int16\", 32),\n",
    "(\"uint\", \"uint32\", 16),\n",
    "(\"int\", \"int32\", 16),\n",
    "(\"uint\", \"uint64\", 8),\n",
    "(\"int\", \"int64\", 8),\n",
    "(\"float\", \"float32\", 16),\n",
    "(\"float\", \"float64\", 8),], columns=['base_type', 'size_type', 'size'])"
   ]
  },
  {
   "cell_type": "code",
   "execution_count": 9,
   "id": "912cd312",
   "metadata": {},
   "outputs": [],
   "source": [
    "types['width']=types.size_type.apply(get_type_size)"
   ]
  },
  {
   "cell_type": "code",
   "execution_count": 10,
   "id": "78674ec0",
   "metadata": {},
   "outputs": [],
   "source": [
    "mask_types=types.iloc[:]"
   ]
  },
  {
   "cell_type": "code",
   "execution_count": 11,
   "id": "46ed1c4d",
   "metadata": {},
   "outputs": [],
   "source": [
    "mask_types['base_type']='mask_'+mask_types['base_type']\n",
    "mask_types['size_type']='mask_'+mask_types['size_type']"
   ]
  },
  {
   "cell_type": "code",
   "execution_count": 12,
   "id": "5ae83859",
   "metadata": {},
   "outputs": [],
   "source": [
    "types=pd.concat([types, mask_types]).reset_index(drop=True)"
   ]
  },
  {
   "cell_type": "code",
   "execution_count": 28,
   "id": "28b0fc8d",
   "metadata": {},
   "outputs": [],
   "source": [
    "types['floating']=types.base_type.str.contains('float')\n",
    "types['mask']=types.base_type.str.contains('mask')\n",
    "\n",
    "types['simd_type']=types.size_type+'x'+types['size'].astype(str)"
   ]
  },
  {
   "cell_type": "code",
   "execution_count": 29,
   "id": "d91c6f94",
   "metadata": {},
   "outputs": [],
   "source": [
    "def default_retval(ints=True, floating=True, mask=False, binop=True):\n",
    "    temp=types[(types.floating==floating) | (types.floating!=ints) | (types['mask']==mask)]\n",
    "    simd_types=temp.simd_type.drop_duplicates().values\n",
    "    if binop:\n",
    "        return pd.DataFrame({'Ret':simd_types, 'Vec1':simd_types, 'Vec2':simd_types})\n",
    "    return pd.DataFrame({'Ret':simd_types, 'Vec':simd_types})"
   ]
  },
  {
   "cell_type": "code",
   "execution_count": 30,
   "id": "827f438f",
   "metadata": {},
   "outputs": [],
   "source": [
    "#bitwise ops\n",
    "bitops_base_url='https://p12tic.github.io/libsimdpp/v2.2-dev/libsimdpp/w/bitwise/'\n",
    "bitops=[\n",
    "    'bit_and',\n",
    "'bit_andnot',\n",
    "'bit_or',\n",
    "'bit_xor',\n",
    "'bit_not'\n",
    "]"
   ]
  },
  {
   "cell_type": "code",
   "execution_count": 32,
   "id": "4ddd3ec5",
   "metadata": {},
   "outputs": [],
   "source": [
    "bitops_retvals=get_retvals_tables(bitops_base_url, bitops, default=lambda bo: default_retval(binop=bo))"
   ]
  },
  {
   "cell_type": "code",
   "execution_count": 33,
   "id": "6507e8ed",
   "metadata": {},
   "outputs": [],
   "source": [
    "#floating ops\n",
    "floatops_base_url='https://p12tic.github.io/libsimdpp/v2.2-dev/libsimdpp/w/fp/'\n",
    "floatops=['add',\n",
    " 'sub',\n",
    " 'mul',\n",
    " 'div',\n",
    " 'fmadd',\n",
    " 'fmsub',\n",
    " 'neg',\n",
    " 'round',\n",
    " 'trunc',\n",
    " 'floor',\n",
    " 'ceil',\n",
    " 'cmp_eq',\n",
    " 'cmp_neq',\n",
    " 'cmp_lt',\n",
    " 'cmp_gt',\n",
    " 'cmp_le',\n",
    " 'cmp_ge',\n",
    " 'abs',\n",
    " 'sign',\n",
    " 'min',\n",
    " 'max',\n",
    " 'isnan',\n",
    " 'isnan2',\n",
    " 'sqrt',\n",
    " 'rcp_e',\n",
    " 'rcp_rh',\n",
    " 'rsqrt_e',\n",
    " 'rsqrt_rh',\n",
    " 'reduce_add',\n",
    " 'reduce_mul',\n",
    " 'reduce_min',\n",
    " 'reduce_max']"
   ]
  },
  {
   "cell_type": "code",
   "execution_count": 34,
   "id": "ab720af0",
   "metadata": {},
   "outputs": [],
   "source": [
    "floatops_retvals=get_retvals_tables(floatops_base_url, floatops, default=lambda bo: default_retval(False, binop=bo))"
   ]
  },
  {
   "cell_type": "code",
   "execution_count": 35,
   "id": "85226d66",
   "metadata": {},
   "outputs": [],
   "source": [
    "#int ops\n",
    "intops_base_url='https://p12tic.github.io/libsimdpp/v2.2-dev/libsimdpp/w/int/'\n",
    "intops=['add',\n",
    " 'sub',\n",
    " 'add_sat',\n",
    " 'sub_sat',\n",
    " 'mul_lo',\n",
    " 'mul_hi',\n",
    " 'mull',\n",
    " 'neg',\n",
    " 'cmp_eq',\n",
    " 'cmp_neq',\n",
    " 'cmp_lt',\n",
    " 'cmp_gt',\n",
    " 'cmp_le',\n",
    " 'cmp_ge',\n",
    " 'abs',\n",
    " 'avg',\n",
    " 'avg_trunc',\n",
    " 'min',\n",
    " 'max',\n",
    " 'shift_l',\n",
    " 'shift_r',\n",
    " 'reduce_add',\n",
    " 'reduce_mul',\n",
    " 'reduce_min',\n",
    " 'reduce_max',\n",
    " 'reduce_and',\n",
    " 'reduce_or']"
   ]
  },
  {
   "cell_type": "code",
   "execution_count": 36,
   "id": "5749afe2",
   "metadata": {},
   "outputs": [],
   "source": [
    "intops_retvals=get_retvals_tables(intops_base_url, intops, default=lambda bo: default_retval(True, False, binop=bo))"
   ]
  },
  {
   "cell_type": "code",
   "execution_count": 37,
   "id": "7d21d19c",
   "metadata": {},
   "outputs": [],
   "source": [
    "def get_type_combinations(ts):\n",
    "    ts=[types[types.size_type==t] for t in ts]\n",
    "    sizes=set(ts[0]['size'].values)\n",
    "    for t in ts[1:]:\n",
    "        sizes = sizes.intersection(set(t['size'].values))\n",
    "    ts=[t[t['size'].isin(sizes)] for t in ts]\n",
    "    for s in sizes:\n",
    "        ret=[]\n",
    "        for t in ts:\n",
    "            ret.append(t[t['size']==s].iloc[0]['simd_type'])\n",
    "        yield ret"
   ]
  },
  {
   "cell_type": "code",
   "execution_count": 38,
   "id": "e8a45ea5",
   "metadata": {},
   "outputs": [],
   "source": [
    "def gen_bin_op(op, op_name, arg_type, ret_type, arg2_type=None):\n",
    "    if arg2_type is None:\n",
    "        return f'''proc {op}*(x, y: {arg_type}): {ret_type}  {{.header: simd, importcpp: \"{op_name}(@)\"}}'''\n",
    "\n",
    "    return f'''proc {op}*(x: {arg_type}, y: {arg2_type}): {ret_type}  {{.header: simd, importcpp: \"{op_name}(@)\"}}'''\n",
    "\n",
    "def gen_uni_op(op, op_name, arg_type, ret_type):\n",
    "    return f'''proc {op}*(x: {arg_type}): {ret_type}  {{.header: simd, importcpp: \"{op_name}(@)\"}}'''\n"
   ]
  },
  {
   "cell_type": "code",
   "execution_count": 39,
   "id": "f54bef0d",
   "metadata": {},
   "outputs": [],
   "source": [
    "aliases={\n",
    "    'add':'`+`',\n",
    "    'sub':'`-`',\n",
    "    'mul':'`*`',\n",
    "    'div':'`/`',\n",
    "    'mull':'`*`',\n",
    "    'shift_l':'`<<`',\n",
    "    'shift_r':'`>>`',\n",
    "     'cmp_eq': '`==`',\n",
    "     'cmp_neq': '`~=`',\n",
    "     'cmp_lt': '`<`',\n",
    "     'cmp_gt': '`>`',\n",
    "     'cmp_le': '`<=`',\n",
    "     'cmp_ge': '`>=`',\n",
    "    'bit_and': '`&`',\n",
    "    'bit_andnot': '`&~`',\n",
    "    'bit_or': '`|`',\n",
    "    'bit_xor': '`^`',\n",
    "    'bit_not': '`~`',\n",
    "}"
   ]
  },
  {
   "cell_type": "code",
   "execution_count": 40,
   "id": "a99f846f",
   "metadata": {},
   "outputs": [],
   "source": [
    "keywords={'div':'divide'}"
   ]
  },
  {
   "cell_type": "code",
   "execution_count": 41,
   "id": "df982758",
   "metadata": {},
   "outputs": [],
   "source": [
    "def name_op(op):\n",
    "    if op in keywords:\n",
    "        return keywords[op]\n",
    "    return op"
   ]
  },
  {
   "cell_type": "code",
   "execution_count": 42,
   "id": "dea29322",
   "metadata": {},
   "outputs": [],
   "source": [
    "def gen_op(op, retvals, ):\n",
    "    binop=retvals.shape[1]>2\n",
    "    if binop:\n",
    "        for i in range(len(retvals)):\n",
    "            temp=retvals.iloc[i]\n",
    "            for c in get_type_combinations([temp['Ret'], temp['Vec1'], temp['Vec2']]):\n",
    "                output(gen_bin_op(name_op(op), op, c[1], c[0], c[2]))\n",
    "                if op in aliases:\n",
    "                    output(gen_bin_op(aliases[op], op, c[1], c[0], c[2]))\n",
    "    else:\n",
    "        for i in range(len(retvals)):\n",
    "            temp=retvals.iloc[i].to_dict()\n",
    "            vec=[v for k,v in temp.items() if 'Vec' in k][0]\n",
    "            for c in get_type_combinations([temp['Ret'], vec]):\n",
    "                output(gen_uni_op(name_op(op), op, c[1], c[0]))\n",
    "                if op in aliases:\n",
    "                    output(gen_uni_op(aliases[op], op, c[1], c[0]))"
   ]
  },
  {
   "cell_type": "code",
   "execution_count": 43,
   "id": "cfa6e279",
   "metadata": {},
   "outputs": [],
   "source": [
    "size_types=types[types['mask']==False].size_type.unique()"
   ]
  },
  {
   "cell_type": "code",
   "execution_count": 44,
   "id": "c8814561",
   "metadata": {},
   "outputs": [],
   "source": [
    "simd_types=types[types['mask']==False].simd_type.unique()"
   ]
  },
  {
   "cell_type": "code",
   "execution_count": 58,
   "id": "ede34718",
   "metadata": {},
   "outputs": [],
   "source": [
    "def gen_simd_type(base_type, size_type, size):\n",
    "    simd_type=size_type+'x'+str(size)\n",
    "    args=', '.join(f'x{i}' for i in range(size))\n",
    "    output(f\"\"\"\n",
    "##############################################\n",
    "### BEGIN {base_type}, {size_type}, {size} ###\n",
    "##############################################\n",
    "    \n",
    "type {simd_type}* {{.header: simd, importcpp: \"{size_type}<{size}>\".}} = object\n",
    "type mask_{simd_type}* {{.header: simd, importcpp: \"mask_{size_type}<{size}>\".}} = object\n",
    "\n",
    "proc Vector*({args}: {size_type}): {simd_type} {{.header: simd, importcpp: \"make_{base_type}<{size_type}<{size}>>(@)\".}}\n",
    "proc splat_{simd_type}*(x: SIZE_TYPE): {simd_type} = Vector({', '.join([f'x.{size_type}' for _ in range(size)])})\n",
    "\n",
    "proc to_mask*(x: {simd_type}): mask_{simd_type} {{.header: simd, importcpp: \"@.to_mask()\".}}\n",
    "\n",
    "proc len*(x: {simd_type}): Natural = {size}\n",
    "{'NEWLINE'.join([f'proc extract_{i}*(x: {simd_type}): {size_type}  {{.header: simd, importcpp: \"extract<{i}, {size}>(@)\"}}' for i in range(size)])}\n",
    "\n",
    "proc `[]`*(x: {simd_type}, i: Natural): {size_type} =\n",
    "  assert 0 <= i and i < {size} ###\n",
    "  {''.join([\"if i == 0:###NEWLINE    return extract_0(x)###NEWLINE\"]+[f\"NEWLINE  elif i == {i}:###NEWLINE    return extract_{i}(x)###\" for i in range(1, size-1)]+[f\"NEWLINE  else:###NEWLINE    return extract_{size-1}(x)###NEWLINE\"])}\n",
    "proc to_seq*(x: {simd_type}): seq[{size_type}] = @[{', '.join([f'x[{i}]' for i in range(size)])}]\n",
    "proc to_array*(x: {simd_type}): auto = [{', '.join([f'x[{i}]' for i in range(size)])}]\n",
    "proc `$`*(x: {simd_type}): string = \"{simd_type}\"& $(x.to_array)\n",
    "proc to_{simd_type}*(x: seq[SIZE_TYPE]): {simd_type} =\n",
    "  assert x.len == {size} ###\n",
    "  Vector({', '.join([f'x[{i}].{size_type}' for i in range(size)])})\n",
    "\n",
    "############################################\n",
    "### END {base_type}, {size_type}, {size} ###\n",
    "############################################\n",
    "\n",
    "    \"\"\".replace('NEWLINE', '\\n'))"
   ]
  },
  {
   "cell_type": "code",
   "execution_count": 59,
   "id": "735c0be3",
   "metadata": {},
   "outputs": [],
   "source": [
    "def gen_conversions():\n",
    "    ret=[]\n",
    "    for t1 in simd_types:\n",
    "        for t2 in simd_types:\n",
    "            size1=get_simd_size(t1)\n",
    "            size2=get_simd_size(t2)\n",
    "            t=get_simd_type(t2)\n",
    "            if size1==size2:\n",
    "                if t1!=t2:\n",
    "                    output(\n",
    "                        f'proc to_{t}*(x: {t1}): {t2} {{.header: simd, importcpp: \"@.to_{t}()\".}}'\n",
    "                    )"
   ]
  },
  {
   "cell_type": "code",
   "execution_count": 60,
   "id": "36a28cb6",
   "metadata": {},
   "outputs": [],
   "source": [
    "def gen_simd_types(s):\n",
    "#     import pdb; pdb.set_trace()\n",
    "    if not s['mask']:\n",
    "        gen_simd_type(s['base_type'], s['size_type'], s['size'])"
   ]
  },
  {
   "cell_type": "code",
   "execution_count": 61,
   "id": "b9121da9",
   "metadata": {},
   "outputs": [],
   "source": [
    "all_output=\"\"\n",
    "def output(s):\n",
    "    global all_output\n",
    "    all_output+=s+'\\n'"
   ]
  },
  {
   "cell_type": "code",
   "execution_count": 62,
   "id": "7bd550b1",
   "metadata": {},
   "outputs": [],
   "source": [
    "_=types.apply(gen_simd_types, axis=1)"
   ]
  },
  {
   "cell_type": "code",
   "execution_count": 63,
   "id": "c097b3f2",
   "metadata": {},
   "outputs": [],
   "source": [
    "gen_conversions()"
   ]
  },
  {
   "cell_type": "code",
   "execution_count": 64,
   "id": "8570e8ef",
   "metadata": {},
   "outputs": [],
   "source": [
    "for retvals in [bitops_retvals, floatops_retvals, intops_retvals]:\n",
    "    for k, v in retvals.items():\n",
    "        gen_op(k, v)"
   ]
  },
  {
   "cell_type": "code",
   "execution_count": 65,
   "id": "8d55d06d",
   "metadata": {},
   "outputs": [],
   "source": [
    "def dedup(ls):\n",
    "    curr=[]\n",
    "    for l in ls:\n",
    "        if l not in curr:\n",
    "            curr.append(l)\n",
    "        elif \"###\" in l:\n",
    "            curr.append(l)\n",
    "    return curr\n",
    "\n",
    "\n",
    "with open('./src/nimd.nim', 'a+') as f:\n",
    "    f.write('''\n",
    "const libsimdpppath {.strdefine.}: string = \"\"\n",
    "{.localPassc: libsimdpppath.}\n",
    "const simd = \"<simdpp/simd.h>\"\n",
    "{.emit: \"\"\"\n",
    "#include <simdpp/simd.h>\n",
    "using namespace simdpp;\n",
    "\"\"\".}\n",
    "\n",
    "'''+f\"type SIZE_TYPE = {' or '.join(size_types)}\\n\\n\")\n",
    "    for l in dedup([i for i in all_output.split('\\n') if i.strip()]):\n",
    "        f.write(l)\n",
    "        f.write('\\n')"
   ]
  },
  {
   "cell_type": "code",
   "execution_count": null,
   "id": "dd3a52d7",
   "metadata": {},
   "outputs": [],
   "source": []
  }
 ],
 "metadata": {
  "kernelspec": {
   "display_name": "Python 3 (ipykernel)",
   "language": "python",
   "name": "python3"
  },
  "language_info": {
   "codemirror_mode": {
    "name": "ipython",
    "version": 3
   },
   "file_extension": ".py",
   "mimetype": "text/x-python",
   "name": "python",
   "nbconvert_exporter": "python",
   "pygments_lexer": "ipython3",
   "version": "3.9.12"
  }
 },
 "nbformat": 4,
 "nbformat_minor": 5
}
